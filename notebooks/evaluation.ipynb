{
 "cells": [
  {
   "cell_type": "markdown",
   "id": "a2800a0c",
   "metadata": {},
   "source": [
    "# Load Results"
   ]
  },
  {
   "cell_type": "code",
   "execution_count": 1,
   "id": "534a2d5d",
   "metadata": {},
   "outputs": [
    {
     "name": "stdout",
     "output_type": "stream",
     "text": [
      "INFO: Pandarallel will run on 8 workers.\n",
      "INFO: Pandarallel will use standard multiprocessing data transfer (pipe) to transfer data between the main process and workers.\n"
     ]
    }
   ],
   "source": [
    "import os\n",
    "import re\n",
    "import pandas as pd\n",
    "import seaborn as sns\n",
    "import matplotlib.pyplot as plt\n",
    "\n",
    "from tqdm import tqdm\n",
    "from bs4 import BeautifulSoup\n",
    "from pandarallel import pandarallel\n",
    "from torchmetrics.text import EditDistance\n",
    "from niteru import style_similarity, structural_similarity\n",
    "\n",
    "\n",
    "os.chdir('..')\n",
    "tqdm.pandas()\n",
    "pandarallel.initialize(progress_bar=True)"
   ]
  },
  {
   "cell_type": "code",
   "execution_count": 2,
   "id": "bf84a7bc",
   "metadata": {},
   "outputs": [
    {
     "data": {
      "text/html": [
       "<div>\n",
       "<style scoped>\n",
       "    .dataframe tbody tr th:only-of-type {\n",
       "        vertical-align: middle;\n",
       "    }\n",
       "\n",
       "    .dataframe tbody tr th {\n",
       "        vertical-align: top;\n",
       "    }\n",
       "\n",
       "    .dataframe thead th {\n",
       "        text-align: right;\n",
       "    }\n",
       "</style>\n",
       "<table border=\"1\" class=\"dataframe\">\n",
       "  <thead>\n",
       "    <tr style=\"text-align: right;\">\n",
       "      <th></th>\n",
       "      <th>inference_id</th>\n",
       "      <th>dataset</th>\n",
       "      <th>imgid</th>\n",
       "      <th>html</th>\n",
       "      <th>model_name</th>\n",
       "      <th>adapter</th>\n",
       "      <th>model_prediction</th>\n",
       "      <th>model_backend</th>\n",
       "      <th>execution_time</th>\n",
       "    </tr>\n",
       "  </thead>\n",
       "  <tbody>\n",
       "    <tr>\n",
       "      <th>0</th>\n",
       "      <td>dfdb4bf68e324ded1f4c4aeadf548e08</td>\n",
       "      <td>apoidea/pubtabnet-html</td>\n",
       "      <td>613565</td>\n",
       "      <td>&lt;html&gt;\\n &lt;head&gt;\\n  &lt;meta charset=\"utf-8\"/&gt;\\n  ...</td>\n",
       "      <td>ibm-granite/granite-vision-3.2-2b</td>\n",
       "      <td>None</td>\n",
       "      <td>Controls</td>\n",
       "      <td>NVIDIA GeForce RTX 4070 Ti SUPER</td>\n",
       "      <td>0.438457</td>\n",
       "    </tr>\n",
       "    <tr>\n",
       "      <th>1</th>\n",
       "      <td>25936d61cb14713bfebc0e7133d721a7</td>\n",
       "      <td>apoidea/pubtabnet-html</td>\n",
       "      <td>592865</td>\n",
       "      <td>&lt;html&gt;\\n &lt;head&gt;\\n  &lt;meta charset=\"utf-8\"/&gt;\\n  ...</td>\n",
       "      <td>ibm-granite/granite-vision-3.2-2b</td>\n",
       "      <td>None</td>\n",
       "      <td>&lt;tr&gt;&lt;td&gt;Exposure time per week&lt;/td&gt;&lt;td&gt;People ...</td>\n",
       "      <td>NVIDIA GeForce RTX 4070 Ti SUPER</td>\n",
       "      <td>5.807385</td>\n",
       "    </tr>\n",
       "    <tr>\n",
       "      <th>2</th>\n",
       "      <td>bdf395103cc360c3d4a02cb59fdb6f49</td>\n",
       "      <td>apoidea/pubtabnet-html</td>\n",
       "      <td>616588</td>\n",
       "      <td>&lt;html&gt;\\n &lt;head&gt;\\n  &lt;meta charset=\"utf-8\"/&gt;\\n  ...</td>\n",
       "      <td>ibm-granite/granite-vision-3.2-2b</td>\n",
       "      <td>None</td>\n",
       "      <td>&lt;thead&gt;&lt;tr&gt;&lt;td&gt;&lt;/td&gt;&lt;td colspan=\"4\"&gt;Clinical C...</td>\n",
       "      <td>NVIDIA GeForce RTX 4070 Ti SUPER</td>\n",
       "      <td>9.369443</td>\n",
       "    </tr>\n",
       "    <tr>\n",
       "      <th>3</th>\n",
       "      <td>4fed1a9b04f13e0f7af6dc432f45a3af</td>\n",
       "      <td>apoidea/pubtabnet-html</td>\n",
       "      <td>634629</td>\n",
       "      <td>&lt;html&gt;\\n &lt;head&gt;\\n  &lt;meta charset=\"utf-8\"/&gt;\\n  ...</td>\n",
       "      <td>ibm-granite/granite-vision-3.2-2b</td>\n",
       "      <td>None</td>\n",
       "      <td>&lt;tr&gt;&lt;td&gt;taxonomic group&lt;/td&gt;&lt;td&gt;txid&lt;/td&gt;&lt;td&gt;#...</td>\n",
       "      <td>NVIDIA GeForce RTX 4070 Ti SUPER</td>\n",
       "      <td>7.052494</td>\n",
       "    </tr>\n",
       "    <tr>\n",
       "      <th>4</th>\n",
       "      <td>090635df8ad28dc4384b83c652c23304</td>\n",
       "      <td>apoidea/pubtabnet-html</td>\n",
       "      <td>689997</td>\n",
       "      <td>&lt;html&gt;\\n &lt;head&gt;\\n  &lt;meta charset=\"utf-8\"/&gt;\\n  ...</td>\n",
       "      <td>ibm-granite/granite-vision-3.2-2b</td>\n",
       "      <td>None</td>\n",
       "      <td>&lt;thead&gt;&lt;tr&gt;&lt;td rowspan=\"2\"&gt;Registration period...</td>\n",
       "      <td>NVIDIA GeForce RTX 4070 Ti SUPER</td>\n",
       "      <td>7.188730</td>\n",
       "    </tr>\n",
       "  </tbody>\n",
       "</table>\n",
       "</div>"
      ],
      "text/plain": [
       "                       inference_id                 dataset   imgid  \\\n",
       "0  dfdb4bf68e324ded1f4c4aeadf548e08  apoidea/pubtabnet-html  613565   \n",
       "1  25936d61cb14713bfebc0e7133d721a7  apoidea/pubtabnet-html  592865   \n",
       "2  bdf395103cc360c3d4a02cb59fdb6f49  apoidea/pubtabnet-html  616588   \n",
       "3  4fed1a9b04f13e0f7af6dc432f45a3af  apoidea/pubtabnet-html  634629   \n",
       "4  090635df8ad28dc4384b83c652c23304  apoidea/pubtabnet-html  689997   \n",
       "\n",
       "                                                html  \\\n",
       "0  <html>\\n <head>\\n  <meta charset=\"utf-8\"/>\\n  ...   \n",
       "1  <html>\\n <head>\\n  <meta charset=\"utf-8\"/>\\n  ...   \n",
       "2  <html>\\n <head>\\n  <meta charset=\"utf-8\"/>\\n  ...   \n",
       "3  <html>\\n <head>\\n  <meta charset=\"utf-8\"/>\\n  ...   \n",
       "4  <html>\\n <head>\\n  <meta charset=\"utf-8\"/>\\n  ...   \n",
       "\n",
       "                          model_name adapter  \\\n",
       "0  ibm-granite/granite-vision-3.2-2b    None   \n",
       "1  ibm-granite/granite-vision-3.2-2b    None   \n",
       "2  ibm-granite/granite-vision-3.2-2b    None   \n",
       "3  ibm-granite/granite-vision-3.2-2b    None   \n",
       "4  ibm-granite/granite-vision-3.2-2b    None   \n",
       "\n",
       "                                    model_prediction  \\\n",
       "0                                           Controls   \n",
       "1  <tr><td>Exposure time per week</td><td>People ...   \n",
       "2  <thead><tr><td></td><td colspan=\"4\">Clinical C...   \n",
       "3  <tr><td>taxonomic group</td><td>txid</td><td>#...   \n",
       "4  <thead><tr><td rowspan=\"2\">Registration period...   \n",
       "\n",
       "                      model_backend  execution_time  \n",
       "0  NVIDIA GeForce RTX 4070 Ti SUPER        0.438457  \n",
       "1  NVIDIA GeForce RTX 4070 Ti SUPER        5.807385  \n",
       "2  NVIDIA GeForce RTX 4070 Ti SUPER        9.369443  \n",
       "3  NVIDIA GeForce RTX 4070 Ti SUPER        7.052494  \n",
       "4  NVIDIA GeForce RTX 4070 Ti SUPER        7.188730  "
      ]
     },
     "execution_count": 2,
     "metadata": {},
     "output_type": "execute_result"
    }
   ],
   "source": [
    "results = pd.read_json('data/evaluation/results.jsonl', lines=True)\n",
    "results['model_name'] = results['model_name'] + results['adapter'].apply(lambda x: '' if x is None else f'_{x}')\n",
    "# Filter models of interest\n",
    "results = results[results['model_name'].str.contains('ibm') | results['model_name'].str.contains('meta')]\n",
    "results.head()"
   ]
  },
  {
   "cell_type": "markdown",
   "id": "39ca4588",
   "metadata": {},
   "source": [
    "# Define Metrics"
   ]
  },
  {
   "cell_type": "code",
   "execution_count": 3,
   "id": "ec88db6a",
   "metadata": {},
   "outputs": [],
   "source": [
    "ed_distance = EditDistance()\n",
    "\n",
    "def extract_table_text(html):\n",
    "    \"\"\"Extracts only the text from an HTML table in row-wise space-separated format.\"\"\"\n",
    "    soup = BeautifulSoup(html, \"html.parser\")\n",
    "    table = soup.find(\"table\")  # Find the first table\n",
    "    if not table:\n",
    "        return \"\"\n",
    "\n",
    "    # Extract rows and join cells with spaces\n",
    "    return \"\\n\".join(\" \".join(cell.get_text(strip=True) for cell in row.find_all([\"th\", \"td\"])) for row in table.find_all(\"tr\"))\n",
    "\n",
    "def extract_html_table(html):\n",
    "    \"\"\"Extracts html table from text\"\"\"\n",
    "    match = re.search(r'<table\\b.*?</table>', html, re.DOTALL | re.IGNORECASE)\n",
    "    if match:\n",
    "        table_html = match.group()\n",
    "        return table_html\n",
    "    else:\n",
    "        return html\n",
    "\n",
    "def html_similarity(html1, html2):\n",
    "    html1 = extract_html_table(html1)\n",
    "    html2 = extract_html_table(html2)\n",
    "    # Compute individual similarity scores\n",
    "    style_sim = style_similarity(html1, html2)  # Assume returns [0,1]\n",
    "    struct_sim = structural_similarity(html1, html2)  # Assume returns [0,1]\n",
    "    txt1, txt2 = extract_table_text(html1), extract_table_text(html2)\n",
    "    content_sim = 1 - (ed_distance(txt1, txt2) /\n",
    "                                   max(len(txt1), len(txt2) + 1e-10))  # Avoid division by zero\n",
    "    jaccard_sim = 1 - (len(set(txt1.split()).intersection(set(txt2.split()))) /\n",
    "                        len(set(txt1.split()).union(set(txt2.split()))) + 1e-10)\n",
    "    \n",
    "    # Weighted sum of the similarities\n",
    "    final_score = (0.10 * style_sim) + (0.40 * struct_sim) + (0.30 * content_sim) + (0.20 * jaccard_sim)\n",
    "\n",
    "    # Ensure final score is in [0,1]\n",
    "    final_score = max(0, min(1, final_score))\n",
    "\n",
    "    return final_score"
   ]
  },
  {
   "cell_type": "markdown",
   "id": "65babcd5",
   "metadata": {},
   "source": [
    "# Apply Metrics"
   ]
  },
  {
   "cell_type": "code",
   "execution_count": 4,
   "id": "686c2c0d",
   "metadata": {},
   "outputs": [
    {
     "data": {
      "application/vnd.jupyter.widget-view+json": {
       "model_id": "9a0489cc591244119257c1a948ae633a",
       "version_major": 2,
       "version_minor": 0
      },
      "text/plain": [
       "VBox(children=(HBox(children=(IntProgress(value=0, description='0.00%', max=188), Label(value='0 / 188'))), HB…"
      ]
     },
     "metadata": {},
     "output_type": "display_data"
    }
   ],
   "source": [
    "results['html_similarity'] = results.parallel_apply(\n",
    "    lambda x: html_similarity(x['html'], x['model_prediction']),\n",
    "    axis=1\n",
    ")"
   ]
  },
  {
   "cell_type": "markdown",
   "id": "ec029aaf",
   "metadata": {},
   "source": [
    "# Plot html similarity per model_name"
   ]
  },
  {
   "cell_type": "code",
   "execution_count": 5,
   "id": "37b48465",
   "metadata": {},
   "outputs": [
    {
     "data": {
      "image/png": "[encoded data removed]",
      "text/plain": [
       "<Figure size 1200x600 with 1 Axes>"
      ]
     },
     "metadata": {},
     "output_type": "display_data"
    }
   ],
   "source": [
    "# Prepare and sort data\n",
    "mean_sim = (\n",
    "    results[['model_name', 'html_similarity']]\n",
    "    .groupby('model_name')\n",
    "    .mean()\n",
    "    .reset_index()\n",
    "    .sort_values('html_similarity', ascending=False)\n",
    ")\n",
    "\n",
    "# Set style\n",
    "sns.set(style=\"whitegrid\", context=\"talk\")\n",
    "\n",
    "# Plot\n",
    "plt.figure(figsize=(12, 6))\n",
    "sns.barplot(\n",
    "    x='html_similarity',\n",
    "    y='model_name',\n",
    "    hue='model_name',            # Assign hue to enable palette\n",
    "    data=mean_sim,\n",
    "    palette='viridis',\n",
    "    dodge=False,\n",
    "    legend=False                 # Disable redundant legend\n",
    ")\n",
    "\n",
    "# Labels and formatting\n",
    "plt.title('Mean HTML Similarity by Model', fontsize=16, weight='bold')\n",
    "plt.xlabel('Mean Similarity Score', fontsize=12)\n",
    "plt.ylabel('Model Name', fontsize=12)\n",
    "plt.xlim(0, 1)\n",
    "plt.tight_layout()\n",
    "\n",
    "# Add value labels\n",
    "for i, v in enumerate(mean_sim['html_similarity']):\n",
    "    plt.text(v + 0.01, i, f\"{v:.2f}\", color='black', va='center')\n",
    "\n",
    "plt.show()"
   ]
  }
 ],
 "metadata": {
  "kernelspec": {
   "display_name": "tv2html",
   "language": "python",
   "name": "python3"
  },
  "language_info": {
   "codemirror_mode": {
    "name": "ipython",
    "version": 3
   },
   "file_extension": ".py",
   "mimetype": "text/x-python",
   "name": "python",
   "nbconvert_exporter": "python",
   "pygments_lexer": "ipython3",
   "version": "3.13.3"
  }
 },
 "nbformat": 4,
 "nbformat_minor": 5
}
