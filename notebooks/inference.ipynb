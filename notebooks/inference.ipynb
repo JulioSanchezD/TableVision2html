{
 "cells": [
  {
   "cell_type": "code",
   "execution_count": 8,
   "id": "585dbb77",
   "metadata": {},
   "outputs": [],
   "source": [
    "import os\n",
    "\n",
    "os.chdir('..')"
   ]
  },
  {
   "cell_type": "code",
   "execution_count": 9,
   "id": "initial_id",
   "metadata": {
    "ExecuteTime": {
     "end_time": "2025-02-09T01:21:27.967804Z",
     "start_time": "2025-02-09T01:21:27.964989Z"
    },
    "collapsed": true
   },
   "outputs": [],
   "source": [
    "import torch, gc, time\n",
    "from bs4 import BeautifulSoup\n",
    "from datasets import load_dataset\n",
    "from torchmetrics.text import EditDistance\n",
    "from IPython.display import display, HTML\n",
    "from niteru import style_similarity, structural_similarity, similarity\n",
    "from transformers import AutoProcessor, AutoModelForVision2Seq, AutoModel, AutoTokenizer, Pix2StructForConditionalGeneration\n",
    "\n",
    "def clean_gpu_memory():\n",
    "    # Delete variables if they exist in the current global scope\n",
    "    if 'inputs' in globals(): del globals()['inputs']\n",
    "    if 'model' in globals(): del globals()['model']\n",
    "    if 'processor' in globals(): del globals()['processor']\n",
    "    if 'trainer' in globals(): del globals()['trainer']\n",
    "    if 'peft_model' in globals(): del globals()['peft_model']\n",
    "    if 'bnb_config' in globals(): del globals()['bnb_config']\n",
    "    time.sleep(2)\n",
    "\n",
    "    # Garbage collection and clearing CUDA memory\n",
    "    gc.collect()\n",
    "    time.sleep(2)\n",
    "    torch.cuda.empty_cache()\n",
    "    torch.cuda.synchronize()\n",
    "    time.sleep(2)\n",
    "    gc.collect()\n",
    "    time.sleep(2)\n",
    "\n",
    "    print(f\"GPU allocated memory: {torch.cuda.memory_allocated() / 1024**3:.2f} GB\")\n",
    "    print(f\"GPU reserved memory: {torch.cuda.memory_reserved() / 1024**3:.2f} GB\")"
   ]
  },
  {
   "cell_type": "markdown",
   "id": "e5f19cddacccd76e",
   "metadata": {},
   "source": [
    "# Load dataset"
   ]
  },
  {
   "cell_type": "code",
   "execution_count": 10,
   "id": "74bdcdd09393ff78",
   "metadata": {
    "ExecuteTime": {
     "end_time": "2025-02-09T01:03:17.840662Z",
     "start_time": "2025-02-09T01:03:11.832332Z"
    }
   },
   "outputs": [
    {
     "data": {
      "application/vnd.jupyter.widget-view+json": {
       "model_id": "236b3ddb930a405eb42151a23e3e2def",
       "version_major": 2,
       "version_minor": 0
      },
      "text/plain": [
       "Resolving data files:   0%|          | 0/32 [00:00<?, ?it/s]"
      ]
     },
     "metadata": {},
     "output_type": "display_data"
    },
    {
     "data": {
      "application/vnd.jupyter.widget-view+json": {
       "model_id": "6fad0843f27542a2b58f115d8d232676",
       "version_major": 2,
       "version_minor": 0
      },
      "text/plain": [
       "Resolving data files:   0%|          | 0/32 [00:00<?, ?it/s]"
      ]
     },
     "metadata": {},
     "output_type": "display_data"
    }
   ],
   "source": [
    "ds = load_dataset('apoidea/pubtabnet-html', streaming=True)\n",
    "test = ds['validation']"
   ]
  },
  {
   "cell_type": "code",
   "execution_count": 11,
   "id": "f9fe8ccf64bc5488",
   "metadata": {
    "ExecuteTime": {
     "end_time": "2025-02-09T01:03:17.896968Z",
     "start_time": "2025-02-09T01:03:17.885465Z"
    }
   },
   "outputs": [
    {
     "name": "stdout",
     "output_type": "stream",
     "text": [
      "613565\n"
     ]
    },
    {
     "data": {
      "image/jpeg": "[encoded data removed]",
      "image/png": "[encoded data removed]",
      "text/plain": [
       "<PIL.PngImagePlugin.PngImageFile image mode=RGB size=503x92>"
      ]
     },
     "execution_count": 11,
     "metadata": {},
     "output_type": "execute_result"
    }
   ],
   "source": [
    "sample = next(iter(test))\n",
    "print(sample['imgid'])\n",
    "sample['image']"
   ]
  },
  {
   "cell_type": "code",
   "execution_count": 15,
   "id": "bf07c9987098ac3c",
   "metadata": {
    "ExecuteTime": {
     "end_time": "2025-02-09T01:03:17.908391Z",
     "start_time": "2025-02-09T01:03:17.905179Z"
    }
   },
   "outputs": [
    {
     "data": {
      "text/html": [
       "<html>\n",
       " <head>\n",
       "  <meta charset=\"utf-8\"/>\n",
       "  <style>\n",
       "   table, th, td {\n",
       "                     border: 1px solid black;\n",
       "                     font-size: 10px;\n",
       "                   }\n",
       "  </style>\n",
       " </head>\n",
       " <body>\n",
       "  <table frame=\"hsides\" rules=\"groups\" width=\"100%\">\n",
       "   <thead>\n",
       "    <tr>\n",
       "     <td>\n",
       "     </td>\n",
       "     <td>\n",
       "     </td>\n",
       "     <td colspan=\"2\">\n",
       "      <b>\n",
       "       Age (years)\n",
       "      </b>\n",
       "     </td>\n",
       "     <td>\n",
       "     </td>\n",
       "    </tr>\n",
       "    <tr>\n",
       "     <td>\n",
       "      <b>\n",
       "       Subjects\n",
       "      </b>\n",
       "     </td>\n",
       "     <td>\n",
       "      <b>\n",
       "       Number (male/female)\n",
       "      </b>\n",
       "     </td>\n",
       "     <td>\n",
       "      <b>\n",
       "       Mean ± SD\n",
       "      </b>\n",
       "     </td>\n",
       "     <td>\n",
       "      <b>\n",
       "       Range\n",
       "      </b>\n",
       "     </td>\n",
       "     <td>\n",
       "      <b>\n",
       "       Radiographic grade\n",
       "       <sup>\n",
       "        a\n",
       "       </sup>\n",
       "      </b>\n",
       "     </td>\n",
       "    </tr>\n",
       "   </thead>\n",
       "   <tbody>\n",
       "    <tr>\n",
       "     <td>\n",
       "      With OA\n",
       "     </td>\n",
       "     <td>\n",
       "      17 (9/8)\n",
       "     </td>\n",
       "     <td>\n",
       "      64.77 ± 9.02\n",
       "     </td>\n",
       "     <td>\n",
       "      45 – 83\n",
       "     </td>\n",
       "     <td>\n",
       "      B\n",
       "     </td>\n",
       "    </tr>\n",
       "    <tr>\n",
       "     <td>\n",
       "      With RA\n",
       "     </td>\n",
       "     <td>\n",
       "      14 (2/12)\n",
       "     </td>\n",
       "     <td>\n",
       "      60.55 ± 12.05\n",
       "     </td>\n",
       "     <td>\n",
       "      35 – 74\n",
       "     </td>\n",
       "     <td>\n",
       "      B\n",
       "     </td>\n",
       "    </tr>\n",
       "    <tr>\n",
       "     <td>\n",
       "      Controls\n",
       "     </td>\n",
       "     <td>\n",
       "      20 (11/9)\n",
       "     </td>\n",
       "     <td>\n",
       "      37.25 ± 7.59\n",
       "     </td>\n",
       "     <td>\n",
       "      29 – 59\n",
       "     </td>\n",
       "     <td>\n",
       "      Normal\n",
       "     </td>\n",
       "    </tr>\n",
       "   </tbody>\n",
       "  </table>\n",
       " </body>\n",
       "</html>\n"
      ],
      "text/plain": [
       "<IPython.core.display.HTML object>"
      ]
     },
     "metadata": {},
     "output_type": "display_data"
    }
   ],
   "source": [
    "display(HTML(sample['html_table']))"
   ]
  },
  {
   "cell_type": "markdown",
   "id": "e40a344ff3025350",
   "metadata": {},
   "source": [
    "# Define metrics"
   ]
  },
  {
   "cell_type": "code",
   "execution_count": null,
   "id": "604ee64ea51aaf48",
   "metadata": {
    "ExecuteTime": {
     "end_time": "2025-02-09T01:27:19.061942Z",
     "start_time": "2025-02-09T01:27:19.056877Z"
    }
   },
   "outputs": [],
   "source": [
    "ed_distance = EditDistance()\n",
    "\n",
    "def extract_table_text(html):\n",
    "    \"\"\"Extracts only the text from an HTML table in row-wise space-separated format.\"\"\"\n",
    "    soup = BeautifulSoup(html, \"html.parser\")\n",
    "    table = soup.find(\"table\")  # Find the first table\n",
    "    if not table:\n",
    "        return \"\"\n",
    "\n",
    "    # Extract rows and join cells with spaces\n",
    "    return \"\\n\".join(\" \".join(cell.get_text(strip=True) for cell in row.find_all([\"th\", \"td\"])) for row in table.find_all(\"tr\"))\n",
    "\n",
    "\n",
    "def html_similarity(html1, html2):\n",
    "    # Compute individual similarity scores\n",
    "    style_sim = style_similarity(html1, html2)  # Assume returns [0,1]\n",
    "    struct_sim = structural_similarity(html1, html2)  # Assume returns [0,1]\n",
    "    txt1, txt2 = extract_table_text(html1), extract_table_text(html2)\n",
    "    content_sim = 1 - (ed_distance(txt1, txt2) /\n",
    "                                   max(len(txt1), len(txt2) + 1e-10))  # Avoid division by zero\n",
    "    # Weighted sum of the similarities\n",
    "    final_score = (0.10 * style_sim) + (0.50 * struct_sim) + (0.40 * content_sim)\n",
    "\n",
    "    # Ensure final score is in [0,1]\n",
    "    final_score = max(0, min(1, final_score))\n",
    "\n",
    "    print(f\"Style similarity: {style_sim:.4f}\")\n",
    "    print(f\"Structural similarity: {struct_sim:.4f}\")\n",
    "    print(f\"Lev-Edit Distance: {content_sim:.4f}\")\n",
    "    print(f\"Final HTML Similarity Score: {final_score:.4f}\")\n",
    "\n",
    "    return final_score"
   ]
  },
  {
   "cell_type": "markdown",
   "id": "42eafa1a7814986e",
   "metadata": {},
   "source": [
    "# Granite Vision (2.98B)"
   ]
  },
  {
   "cell_type": "code",
   "execution_count": 7,
   "id": "aee39c2b",
   "metadata": {},
   "outputs": [],
   "source": [
    "model_path = \"ibm-granite/granite-vision-3.2-2b\"\n",
    "device = \"cuda\" if torch.cuda.is_available() else \"cpu\""
   ]
  },
  {
   "cell_type": "code",
   "execution_count": 8,
   "id": "266fa2ff61ecaeac",
   "metadata": {
    "ExecuteTime": {
     "end_time": "2025-02-09T01:03:33.563690Z",
     "start_time": "2025-02-09T01:03:18.002513Z"
    }
   },
   "outputs": [
    {
     "data": {
      "application/vnd.jupyter.widget-view+json": {
       "model_id": "3aff56db21e34c2b9a4fd5c7aa0364cf",
       "version_major": 2,
       "version_minor": 0
      },
      "text/plain": [
       "Loading checkpoint shards:   0%|          | 0/2 [00:00<?, ?it/s]"
      ]
     },
     "metadata": {},
     "output_type": "display_data"
    }
   ],
   "source": [
    "# Prepare image and text prompt, using the appropriate prompt template\n",
    "processor = AutoProcessor.from_pretrained(model_path, use_fast=True)\n",
    "model = AutoModelForVision2Seq.from_pretrained(\n",
    "    model_path,\n",
    "    device_map=\"auto\",\n",
    "    torch_dtype=torch.bfloat16,\n",
    "    _attn_implementation=\"flash_attention_2\"\n",
    ")"
   ]
  },
  {
   "cell_type": "code",
   "execution_count": 9,
   "id": "26d6b38488bf5ee5",
   "metadata": {
    "ExecuteTime": {
     "end_time": "2025-02-09T01:03:33.635796Z",
     "start_time": "2025-02-09T01:03:33.632929Z"
    }
   },
   "outputs": [],
   "source": [
    "# Predict both images\n",
    "def predict(img):\n",
    "    # Prepare prompt\n",
    "    conversation = [\n",
    "        {\n",
    "          \"role\": \"system\",\n",
    "          \"content\": [\n",
    "              {\"type\": \"text\", \"text\": \"Convert the user's image to HTML.\"}\n",
    "            ]\n",
    "        },\n",
    "        {\n",
    "            \"role\": \"user\",\n",
    "            \"content\": [\n",
    "                {\"type\": \"image\"}\n",
    "            ],\n",
    "        },\n",
    "    ]\n",
    "    text = processor.apply_chat_template(conversation,\n",
    "        add_generation_prompt=True,\n",
    "    )\n",
    "    inputs = processor(images=[img], text=text, return_tensors=\"pt\").to(device)\n",
    "    output = model.generate(**inputs, max_new_tokens=1500)\n",
    "    output = processor.decode(output[0], skip_special_tokens=True)\n",
    "    return output.split('<|assistant|>')[-1].strip()"
   ]
  },
  {
   "cell_type": "code",
   "execution_count": 10,
   "id": "7dc28495d5c5875c",
   "metadata": {
    "ExecuteTime": {
     "end_time": "2025-02-09T01:08:00.067430Z",
     "start_time": "2025-02-09T01:07:54.745772Z"
    }
   },
   "outputs": [
    {
     "data": {
      "text/html": [
       "<table>Controls</table>"
      ],
      "text/plain": [
       "<IPython.core.display.HTML object>"
      ]
     },
     "metadata": {},
     "output_type": "display_data"
    }
   ],
   "source": [
    "%timeit\n",
    "html = predict(sample['image'])\n",
    "display(HTML('<table>' + html + '</table>'))"
   ]
  },
  {
   "cell_type": "code",
   "execution_count": 11,
   "id": "81e74cadc73fa8f2",
   "metadata": {
    "ExecuteTime": {
     "end_time": "2025-02-09T01:27:28.020812Z",
     "start_time": "2025-02-09T01:27:28.012846Z"
    }
   },
   "outputs": [
    {
     "name": "stdout",
     "output_type": "stream",
     "text": [
      "Style similarity: 1.0000\n",
      "Structural similarity: 0.0444\n",
      "Lev-Edit Distance: 0.0000\n",
      "Final HTML Similarity Score: 0.1222\n"
     ]
    },
    {
     "data": {
      "text/plain": [
       "tensor(0.1222)"
      ]
     },
     "execution_count": 11,
     "metadata": {},
     "output_type": "execute_result"
    }
   ],
   "source": [
    "html_similarity('<table>' + html + '</table>', sample['html_table'])"
   ]
  },
  {
   "cell_type": "markdown",
   "id": "d80b29ea",
   "metadata": {},
   "source": [
    "# Fine-tuned Granite model"
   ]
  },
  {
   "cell_type": "code",
   "execution_count": 12,
   "id": "4e1f7cfa666ca489",
   "metadata": {
    "ExecuteTime": {
     "end_time": "2025-02-09T01:27:51.077714Z",
     "start_time": "2025-02-09T01:27:47.860047Z"
    }
   },
   "outputs": [
    {
     "name": "stdout",
     "output_type": "stream",
     "text": [
      "GPU allocated memory: 0.01 GB\n",
      "GPU reserved memory: 5.73 GB\n"
     ]
    }
   ],
   "source": [
    "del model\n",
    "clean_gpu_memory()"
   ]
  },
  {
   "cell_type": "code",
   "execution_count": 13,
   "id": "e27538f4",
   "metadata": {},
   "outputs": [
    {
     "data": {
      "application/vnd.jupyter.widget-view+json": {
       "model_id": "1cd7858f62fe4306870d5880f59b3564",
       "version_major": 2,
       "version_minor": 0
      },
      "text/plain": [
       "Loading checkpoint shards:   0%|          | 0/2 [00:00<?, ?it/s]"
      ]
     },
     "metadata": {},
     "output_type": "display_data"
    },
    {
     "name": "stdout",
     "output_type": "stream",
     "text": [
      "Model loaded\n",
      "Adapter 'lang_only' loaded\n",
      "Adapter 'lang_only' merged\n",
      "Using cuda: NVIDIA GeForce RTX 4070 Ti SUPER\n"
     ]
    }
   ],
   "source": [
    "from src.models.granite_vision.transformers_library import LLM as granite_vision\n",
    "\n",
    "model = granite_vision(\n",
    "    model_path,\n",
    "    adapter='lang_only'\n",
    ")"
   ]
  },
  {
   "cell_type": "code",
   "execution_count": 14,
   "id": "1ab2ab08",
   "metadata": {},
   "outputs": [
    {
     "data": {
      "text/html": [
       "<html>\n",
       " <head>\n",
       "  <meta charset=\"utf-8\"/>\n",
       "  <style>\n",
       "   table, th, td {\n",
       "                     border: 1px solid black;\n",
       "                     font-size: 10px;\n",
       "                   }\n",
       "  </style>\n",
       " </head>\n",
       " <body>\n",
       "  <table frame=\"hsides\" rules=\"groups\" width=\"100%\">\n",
       "   <thead>\n",
       "    <tr>\n",
       "     <td>\n",
       "     </td>\n",
       "     <td>\n",
       "     </td>\n",
       "     <td colspan=\"2\">\n",
       "      <b>\n",
       "       Age (years)\n",
       "      </b>\n",
       "     </td>\n",
       "     <td>\n",
       "     </td>\n",
       "    </tr>\n",
       "    <tr>\n",
       "     <td>\n",
       "      <b>\n",
       "       Subjects\n",
       "      </b>\n",
       "     </td>\n",
       "     <td>\n",
       "      <b>\n",
       "       Number (male/female)\n",
       "      </b>\n",
       "     </td>\n",
       "     <td>\n",
       "      <b>\n",
       "       Mean ± SD\n",
       "      </b>\n",
       "     </td>\n",
       "     <td>\n",
       "      <b>\n",
       "       Range\n",
       "      </b>\n",
       "     </td>\n",
       "     <td>\n",
       "      <b>\n",
       "       Radiographic grade\n",
       "       <sup>\n",
       "        a\n",
       "       </sup>\n",
       "      </b>\n",
       "     </td>\n",
       "    </tr>\n",
       "   </thead>\n",
       "   <tbody>\n",
       "    <tr>\n",
       "     <td>\n",
       "      With OA\n",
       "     </td>\n",
       "     <td>\n",
       "      17 (9/8)\n",
       "     </td>\n",
       "     <td>\n",
       "      64.77± 8.02\n",
       "     </td>\n",
       "     <td>\n",
       "      45 – 83\n",
       "     </td>\n",
       "     <td>\n",
       "      B\n",
       "     </td>\n",
       "    </tr>\n",
       "    <tr>\n",
       "     <td>\n",
       "      With RA\n",
       "     </td>\n",
       "     <td>\n",
       "      14 (2/12)\n",
       "     </td>\n",
       "     <td>\n",
       "      60.55 ± 12.05\n",
       "     </td>\n",
       "     <td>\n",
       "      35 – 74\n",
       "     </td>\n",
       "     <td>\n",
       "      B\n",
       "     </td>\n",
       "    </tr>\n",
       "    <tr>\n",
       "     <td>\n",
       "      Controls\n",
       "     </td>\n",
       "     <td>\n",
       "      20 (11/9)\n",
       "     </td>\n",
       "     <td>\n",
       "      37.25± 7.59\n",
       "     </td>\n",
       "     <td>\n",
       "      29 – 59\n",
       "     </td>\n",
       "     <td>\n",
       "      Normal\n",
       "     </td>\n",
       "    </tr>\n",
       "   </tbody>\n",
       "  </table>\n",
       " </body>\n",
       "</html>"
      ],
      "text/plain": [
       "<IPython.core.display.HTML object>"
      ]
     },
     "metadata": {},
     "output_type": "display_data"
    }
   ],
   "source": [
    "%timeit\n",
    "html = model.predict(sample['image'], max_new_tokens=1024, query=\"Convert table to HTML\")\n",
    "display(HTML(html))"
   ]
  },
  {
   "cell_type": "code",
   "execution_count": 15,
   "id": "882ee68a",
   "metadata": {},
   "outputs": [
    {
     "name": "stdout",
     "output_type": "stream",
     "text": [
      "Style similarity: 1.0000\n",
      "Structural similarity: 1.0000\n",
      "Lev-Edit Distance: 0.9856\n",
      "Final HTML Similarity Score: 0.9943\n"
     ]
    },
    {
     "data": {
      "text/plain": [
       "tensor(0.9943)"
      ]
     },
     "execution_count": 15,
     "metadata": {},
     "output_type": "execute_result"
    }
   ],
   "source": [
    "html_similarity(html, sample['html_table'])"
   ]
  },
  {
   "cell_type": "markdown",
   "id": "f592e07eab673d31",
   "metadata": {},
   "source": [
    "# OCR2 (716M)"
   ]
  },
  {
   "cell_type": "code",
   "execution_count": null,
   "id": "fd56ced4",
   "metadata": {},
   "outputs": [
    {
     "name": "stdout",
     "output_type": "stream",
     "text": [
      "Current:\n",
      "GPU allocated memory: 5.58 GB\n",
      "GPU reserved memory: 6.05 GB\n",
      "--------------------------------------------------\n",
      "After:\n",
      "GPU allocated memory: 0.01 GB\n",
      "GPU reserved memory: 5.73 GB\n"
     ]
    }
   ],
   "source": [
    "clean_gpu_memory()"
   ]
  },
  {
   "cell_type": "code",
   "execution_count": 35,
   "id": "e452712a676acdd3",
   "metadata": {
    "ExecuteTime": {
     "end_time": "2025-02-09T01:27:55.956370Z",
     "start_time": "2025-02-09T01:27:52.771278Z"
    }
   },
   "outputs": [],
   "source": [
    "model_path = 'ucaslcl/GOT-OCR2_0'\n",
    "tokenizer = AutoTokenizer.from_pretrained(model_path, trust_remote_code=True)\n",
    "model = AutoModel.from_pretrained(model_path, trust_remote_code=True, low_cpu_mem_usage=True, device_map='cuda', use_safetensors=True)\n",
    "model.generation_config.pad_token_id = tokenizer.pad_token_id\n",
    "model = model.eval().cuda()"
   ]
  },
  {
   "cell_type": "code",
   "execution_count": 36,
   "id": "7a6cecd1001a55c3",
   "metadata": {
    "ExecuteTime": {
     "end_time": "2025-02-09T01:27:58.703386Z",
     "start_time": "2025-02-09T01:27:55.961025Z"
    }
   },
   "outputs": [
    {
     "name": "stderr",
     "output_type": "stream",
     "text": [
      "The attention mask is not set and cannot be inferred from input because pad token is same as eos token. As a consequence, you may observe unexpected behavior. Please pass your input's `attention_mask` to obtain reliable results.\n",
      "The `seen_tokens` attribute is deprecated and will be removed in v4.41. Use the `cache_position` model input instead.\n"
     ]
    },
    {
     "name": "stdout",
     "output_type": "stream",
     "text": [
      "\\begin{tabular}{|c|c|c|c|c|}\n",
      "\\hline \\multirow[b]{2}{*}{ Subjects } & \\multirow[b]{2}{*}{ Number (male/female) } & \\multicolumn{2}{|c|}{ Age (years) } & \\multirow[b]{2}{*}{ Radiographic grade* } \\\\\n",
      "\\hline & & Mean \\(\\pm S D\\) & Range & \\\\\n",
      "\\hline With OA & \\(17(91 / 8)\\) & \\(84.77 \\pm 9.02\\) & \\(45-83\\) & B \\\\\n",
      "\\hline With RA & \\(14(2 / 12)\\) & \\(60.55 \\pm 12.05\\) & \\(35-74\\) & B \\\\\n",
      "\\hline Controls & \\(20(11 / 9)\\) & \\(37.25 \\pm 7.59\\) & \\(29-59\\) & Normal \\\\\n",
      "\\hline\n",
      "\\end{tabular}\n"
     ]
    }
   ],
   "source": [
    "html = model.chat(\n",
    "    tokenizer,\n",
    "    gradio_input=True,\n",
    "    image_file=sample['image'],\n",
    "    ocr_type='format'\n",
    ")\n",
    "print(html)"
   ]
  },
  {
   "cell_type": "code",
   "execution_count": 37,
   "id": "de2aaf433e206620",
   "metadata": {
    "ExecuteTime": {
     "end_time": "2025-02-09T01:28:30.624087Z",
     "start_time": "2025-02-09T01:28:30.618413Z"
    }
   },
   "outputs": [
    {
     "name": "stdout",
     "output_type": "stream",
     "text": [
      "Style similarity: 0.0000\n",
      "Structural similarity: 0.0000\n",
      "BLEU: 0.0000\n",
      "Final HTML Similarity Score: 0.0000\n"
     ]
    },
    {
     "data": {
      "text/plain": [
       "0"
      ]
     },
     "execution_count": 37,
     "metadata": {},
     "output_type": "execute_result"
    }
   ],
   "source": [
    "html_similarity(html, sample['html_table'])"
   ]
  },
  {
   "cell_type": "markdown",
   "id": "8b82711998f3411b",
   "metadata": {},
   "source": [
    "# Table2HTML (282M)"
   ]
  },
  {
   "cell_type": "code",
   "execution_count": null,
   "id": "405c69ce",
   "metadata": {},
   "outputs": [],
   "source": [
    "clean_gpu_memory()"
   ]
  },
  {
   "cell_type": "code",
   "execution_count": 22,
   "id": "444d4ea49d69e355",
   "metadata": {
    "ExecuteTime": {
     "end_time": "2025-02-09T01:28:45.480427Z",
     "start_time": "2025-02-09T01:28:39.379857Z"
    }
   },
   "outputs": [
    {
     "data": {
      "text/plain": [
       "Pix2StructForConditionalGeneration(\n",
       "  (encoder): Pix2StructVisionModel(\n",
       "    (embeddings): Pix2StructVisionEmbeddings(\n",
       "      (patch_projection): Linear(in_features=768, out_features=768, bias=True)\n",
       "      (row_embedder): Embedding(4096, 768)\n",
       "      (column_embedder): Embedding(4096, 768)\n",
       "      (dropout): Dropout(p=0.2, inplace=False)\n",
       "    )\n",
       "    (encoder): Pix2StructVisionEncoder(\n",
       "      (layer): ModuleList(\n",
       "        (0-11): 12 x Pix2StructVisionLayer(\n",
       "          (attention): Pix2StructVisionAttention(\n",
       "            (query): Linear(in_features=768, out_features=768, bias=False)\n",
       "            (key): Linear(in_features=768, out_features=768, bias=False)\n",
       "            (value): Linear(in_features=768, out_features=768, bias=False)\n",
       "            (output): Linear(in_features=768, out_features=768, bias=False)\n",
       "          )\n",
       "          (mlp): Pix2StructVisionMlp(\n",
       "            (wi_0): Linear(in_features=768, out_features=2048, bias=False)\n",
       "            (wi_1): Linear(in_features=768, out_features=2048, bias=False)\n",
       "            (wo): Linear(in_features=2048, out_features=768, bias=False)\n",
       "            (dropout): Dropout(p=0.2, inplace=False)\n",
       "            (act): NewGELUActivation()\n",
       "          )\n",
       "          (pre_mlp_layer_norm): Pix2StructLayerNorm()\n",
       "          (pre_attention_layer_norm): Pix2StructLayerNorm()\n",
       "        )\n",
       "      )\n",
       "    )\n",
       "    (layernorm): Pix2StructLayerNorm()\n",
       "  )\n",
       "  (decoder): Pix2StructTextModel(\n",
       "    (embed_tokens): Embedding(50244, 768)\n",
       "    (layer): ModuleList(\n",
       "      (0): Pix2StructTextBlock(\n",
       "        (self_attention): Pix2StructTextLayerSelfAttention(\n",
       "          (attention): Pix2StructTextAttention(\n",
       "            (query): Linear(in_features=768, out_features=768, bias=False)\n",
       "            (key): Linear(in_features=768, out_features=768, bias=False)\n",
       "            (value): Linear(in_features=768, out_features=768, bias=False)\n",
       "            (output): Linear(in_features=768, out_features=768, bias=False)\n",
       "            (relative_attention_bias): Embedding(32, 12)\n",
       "          )\n",
       "          (layer_norm): Pix2StructLayerNorm()\n",
       "          (dropout): Dropout(p=0.2, inplace=False)\n",
       "        )\n",
       "        (encoder_decoder_attention): Pix2StructTextLayerCrossAttention(\n",
       "          (attention): Pix2StructTextAttention(\n",
       "            (query): Linear(in_features=768, out_features=768, bias=False)\n",
       "            (key): Linear(in_features=768, out_features=768, bias=False)\n",
       "            (value): Linear(in_features=768, out_features=768, bias=False)\n",
       "            (output): Linear(in_features=768, out_features=768, bias=False)\n",
       "          )\n",
       "          (layer_norm): Pix2StructLayerNorm()\n",
       "          (dropout): Dropout(p=0.2, inplace=False)\n",
       "        )\n",
       "        (mlp): Pix2StructTextLayerFF(\n",
       "          (DenseReluDense): Pix2StructTextDenseGatedActDense(\n",
       "            (wi_0): Linear(in_features=768, out_features=2048, bias=False)\n",
       "            (wi_1): Linear(in_features=768, out_features=2048, bias=False)\n",
       "            (wo): Linear(in_features=2048, out_features=768, bias=False)\n",
       "            (dropout): Dropout(p=0.2, inplace=False)\n",
       "            (act): NewGELUActivation()\n",
       "          )\n",
       "          (layer_norm): Pix2StructLayerNorm()\n",
       "          (dropout): Dropout(p=0.2, inplace=False)\n",
       "        )\n",
       "      )\n",
       "      (1-11): 11 x Pix2StructTextBlock(\n",
       "        (self_attention): Pix2StructTextLayerSelfAttention(\n",
       "          (attention): Pix2StructTextAttention(\n",
       "            (query): Linear(in_features=768, out_features=768, bias=False)\n",
       "            (key): Linear(in_features=768, out_features=768, bias=False)\n",
       "            (value): Linear(in_features=768, out_features=768, bias=False)\n",
       "            (output): Linear(in_features=768, out_features=768, bias=False)\n",
       "          )\n",
       "          (layer_norm): Pix2StructLayerNorm()\n",
       "          (dropout): Dropout(p=0.2, inplace=False)\n",
       "        )\n",
       "        (encoder_decoder_attention): Pix2StructTextLayerCrossAttention(\n",
       "          (attention): Pix2StructTextAttention(\n",
       "            (query): Linear(in_features=768, out_features=768, bias=False)\n",
       "            (key): Linear(in_features=768, out_features=768, bias=False)\n",
       "            (value): Linear(in_features=768, out_features=768, bias=False)\n",
       "            (output): Linear(in_features=768, out_features=768, bias=False)\n",
       "          )\n",
       "          (layer_norm): Pix2StructLayerNorm()\n",
       "          (dropout): Dropout(p=0.2, inplace=False)\n",
       "        )\n",
       "        (mlp): Pix2StructTextLayerFF(\n",
       "          (DenseReluDense): Pix2StructTextDenseGatedActDense(\n",
       "            (wi_0): Linear(in_features=768, out_features=2048, bias=False)\n",
       "            (wi_1): Linear(in_features=768, out_features=2048, bias=False)\n",
       "            (wo): Linear(in_features=2048, out_features=768, bias=False)\n",
       "            (dropout): Dropout(p=0.2, inplace=False)\n",
       "            (act): NewGELUActivation()\n",
       "          )\n",
       "          (layer_norm): Pix2StructLayerNorm()\n",
       "          (dropout): Dropout(p=0.2, inplace=False)\n",
       "        )\n",
       "      )\n",
       "    )\n",
       "    (final_layer_norm): Pix2StructLayerNorm()\n",
       "    (dropout): Dropout(p=0.2, inplace=False)\n",
       "    (lm_head): Linear(in_features=768, out_features=50244, bias=False)\n",
       "  )\n",
       ")"
      ]
     },
     "execution_count": 22,
     "metadata": {},
     "output_type": "execute_result"
    }
   ],
   "source": [
    "model_path = \"KennethTM/pix2struct-base-table2html\"\n",
    "processor = AutoProcessor.from_pretrained(model_path)\n",
    "model = Pix2StructForConditionalGeneration.from_pretrained(model_path)\n",
    "model.to(device)\n",
    "model.eval()"
   ]
  },
  {
   "cell_type": "code",
   "execution_count": 23,
   "id": "f6771a8f347ced8c",
   "metadata": {
    "ExecuteTime": {
     "end_time": "2025-02-09T01:28:47.149911Z",
     "start_time": "2025-02-09T01:28:47.147100Z"
    }
   },
   "outputs": [],
   "source": [
    "def predict(img):\n",
    "    encoding = processor(img, return_tensors=\"pt\", max_patches=1024, legacy=False)\n",
    "    with torch.inference_mode():\n",
    "        flattened_patches = encoding.pop(\"flattened_patches\").to(device)\n",
    "        attention_mask = encoding.pop(\"attention_mask\").to(device)\n",
    "        predictions = model.generate(flattened_patches=flattened_patches, attention_mask=attention_mask, max_new_tokens=1024)\n",
    "\n",
    "    return processor.tokenizer.batch_decode(predictions, skip_special_tokens=True)[0]"
   ]
  },
  {
   "cell_type": "code",
   "execution_count": 24,
   "id": "52075d72143efbd7",
   "metadata": {
    "ExecuteTime": {
     "end_time": "2025-02-09T01:28:51.793546Z",
     "start_time": "2025-02-09T01:28:49.468095Z"
    }
   },
   "outputs": [
    {
     "name": "stderr",
     "output_type": "stream",
     "text": [
      "Keyword argument `legacy` is not a valid argument for this processor and will be ignored.\n"
     ]
    },
    {
     "data": {
      "text/html": [
       "<table frame=\"hsides\" rules=\"groups\" width=\"100%\"> <thead> <tr> <td> </td> <td> </td> <td colspan=\"2\"> <b> Age (years) </b> </td> <td> </td> </tr> <tr> <td> <b> Subjects </b> </td> <td> <b> Number (male/female) </b> </td> <td> <b> Mean ± SD </b> </td> <td> <b> Range </b> </td> <td> <b> Radiographic grade <sup> a </sup> </b> </td> </tr> </thead> <tbody> <tr> <td> With OA </td> <td> 17 (9/8) </td> <td> 64.77 ± 9.02 </td> <td> 45 – 83 </td> <td> B </td> </tr> <tr> <td> With RA </td> <td> 14 (2/12) </td> <td> 60.55 ± 12.05 </td> <td> 35 – 74 </td> <td> B </td> </tr> <tr> <td> Controls </td> <td> 20 (11/9) </td> <td> 37.25 ± 7.59 </td> <td> 29 – 59 </td> <td> Normal </td> </tr> </tbody> </table>"
      ],
      "text/plain": [
       "<IPython.core.display.HTML object>"
      ]
     },
     "metadata": {},
     "output_type": "display_data"
    }
   ],
   "source": [
    "html = predict(sample['image'])\n",
    "display(HTML(html))"
   ]
  },
  {
   "cell_type": "code",
   "execution_count": 25,
   "id": "2e8e114441f4c585",
   "metadata": {
    "ExecuteTime": {
     "end_time": "2025-02-09T01:28:57.859702Z",
     "start_time": "2025-02-09T01:28:57.848752Z"
    }
   },
   "outputs": [
    {
     "name": "stdout",
     "output_type": "stream",
     "text": [
      "Style similarity: 1.0000\n",
      "Structural similarity: 0.9398\n",
      "Lev-Edit Distance: 1.0000\n",
      "Final HTML Similarity Score: 0.9699\n"
     ]
    },
    {
     "data": {
      "text/plain": [
       "tensor(0.9699)"
      ]
     },
     "execution_count": 25,
     "metadata": {},
     "output_type": "execute_result"
    }
   ],
   "source": [
    "html_similarity(html, sample['html_table'])"
   ]
  },
  {
   "cell_type": "code",
   "execution_count": 28,
   "id": "da39c4c31a6f94eb",
   "metadata": {
    "ExecuteTime": {
     "end_time": "2025-02-09T01:29:06.574539Z",
     "start_time": "2025-02-09T01:29:06.021133Z"
    }
   },
   "outputs": [
    {
     "name": "stdout",
     "output_type": "stream",
     "text": [
      "GPU allocated memory: 0.01 GB\n",
      "GPU reserved memory: 5.73 GB\n"
     ]
    }
   ],
   "source": [
    "clean_gpu_memory()"
   ]
  },
  {
   "cell_type": "markdown",
   "id": "498ff539",
   "metadata": {},
   "source": [
    "# Llama Vision 11B"
   ]
  },
  {
   "cell_type": "code",
   "execution_count": 32,
   "id": "53868b92",
   "metadata": {},
   "outputs": [],
   "source": [
    "from src.models.llama.watsonxai import LLM as LlamaVision\n",
    "\n",
    "model_name = \"meta-llama/llama-3-2-11b-vision-instruct\"\n",
    "model = LlamaVision(model_name)"
   ]
  },
  {
   "cell_type": "code",
   "execution_count": 33,
   "id": "3ee6f81e",
   "metadata": {},
   "outputs": [
    {
     "data": {
      "text/html": [
       "<table><thead><tr><th>Subjects</th><th>Number (male/female)</th><th>Mean ± SD</th><th>Age (years)</th><th>Radiographic grade*</th></tr></thead><tbody><tr><td>With OA</td><td>17 (9/6)</td><td>64.77 ± 9.02</td><td>45 – 80</td><td>B</td></tr><tr><td>With RA</td><td>14 (2/12)</td><td>60.55 ± 12.05</td><td>35 – 74</td><td>B</td></tr><tr><td>Controls</td><td>20 (11/9)</td><td>37.25 ± 7.59</td><td>29 – 59</td><td>Normal</td></tr></tbody></table>"
      ],
      "text/plain": [
       "<IPython.core.display.HTML object>"
      ]
     },
     "metadata": {},
     "output_type": "display_data"
    }
   ],
   "source": [
    "%timeit\n",
    "html = model.predict(sample['image'], max_new_tokens=1024, query=\"Convert table to HTML\")\n",
    "display(HTML(html))"
   ]
  }
 ],
 "metadata": {
  "kernelspec": {
   "display_name": "tv2html",
   "language": "python",
   "name": "python3"
  },
  "language_info": {
   "codemirror_mode": {
    "name": "ipython",
    "version": 3
   },
   "file_extension": ".py",
   "mimetype": "text/x-python",
   "name": "python",
   "nbconvert_exporter": "python",
   "pygments_lexer": "ipython3",
   "version": "3.13.3"
  }
 },
 "nbformat": 4,
 "nbformat_minor": 5
}
